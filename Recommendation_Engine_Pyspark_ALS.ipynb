{
  "cells": [
    {
      "cell_type": "markdown",
      "metadata": {
        "id": "view-in-github",
        "colab_type": "text"
      },
      "source": [
        "<a href=\"https://colab.research.google.com/github/dpmallick/BDSN_Project/blob/main/Recommendation_Engine_Pyspark_ALS.ipynb\" target=\"_parent\"><img src=\"https://colab.research.google.com/assets/colab-badge.svg\" alt=\"Open In Colab\"/></a>"
      ]
    },
    {
      "cell_type": "markdown",
      "source": [
        "#      **Recommendation Engine using ALS(Alternate Least Square Method)**"
      ],
      "metadata": {
        "id": "RrKvxwwUzGXh"
      }
    },
    {
      "cell_type": "markdown",
      "source": [
        "**Overview**\n",
        "\n",
        "This was part of Analytics Vidhya Black Friday Sales challenge.\n",
        "\n",
        "[datahack.analyticsvidhya.com/contest/black-friday/#About](https://)\n",
        "\n",
        " Dataset consists of training data and test data. This project will focus only on the three main features i.e user id, Product id, purchase amount. Other user or product related features will be used only for EDA purpose.User related attributes are  age, gender, occupation, marital status, city category they live in and how many years they have been staying there. Product related feature includes product category 1, product category 2 and product category 3. Rating was determined by dividing the purchase amount by 1000 so that rating lies between 1 and 25. Once the model is trained, we would test the model on unseen data (test dataset) to see how good it is able to predict the rating. Test dataset does not having rating column, our model will help to predict the rating in test data. We can also predict the total purchase amount by multiplying the rating with 1000."
      ],
      "metadata": {
        "id": "TOkDFV6-0H2f"
      }
    },
    {
      "cell_type": "markdown",
      "source": [
        "# Install and initialize Spark"
      ],
      "metadata": {
        "id": "tjUsG2Zy24mj"
      }
    },
    {
      "cell_type": "code",
      "execution_count": 1,
      "metadata": {
        "colab": {
          "base_uri": "https://localhost:8080/"
        },
        "id": "pldzUonLTKTN",
        "outputId": "456a361e-5ca1-474f-8b1b-2cc32fd2a814"
      },
      "outputs": [
        {
          "output_type": "stream",
          "name": "stdout",
          "text": [
            "\n",
            "WARNING: apt does not have a stable CLI interface. Use with caution in scripts.\n",
            "\n",
            "\n",
            "WARNING: apt does not have a stable CLI interface. Use with caution in scripts.\n",
            "\n"
          ]
        }
      ],
      "source": [
        "!apt update > /dev/null\n",
        "!apt install openjdk-8-jdk-headless -qq > /dev/null\n",
        "import warnings\n",
        "warnings.filterwarnings('ignore')"
      ]
    },
    {
      "cell_type": "code",
      "execution_count": 2,
      "metadata": {
        "id": "UCtAmsMxTYmo",
        "colab": {
          "base_uri": "https://localhost:8080/"
        },
        "outputId": "f25d17d5-1ffc-45e7-9113-652d118c86fb"
      },
      "outputs": [
        {
          "output_type": "stream",
          "name": "stdout",
          "text": [
            "\u001b[K     |████████████████████████████████| 281.4 MB 41 kB/s \n",
            "\u001b[K     |████████████████████████████████| 198 kB 58.8 MB/s \n",
            "\u001b[?25h  Building wheel for pyspark (setup.py) ... \u001b[?25l\u001b[?25hdone\n"
          ]
        }
      ],
      "source": [
        "# Get latest and correct version of Spark\n",
        "#\n",
        "# if the current version of Spark is not used, there may be errors\n",
        "# check here for current versions http://apache.osuosl.org/spark\n",
        "\n",
        "!wget -q http://apache.osuosl.org/spark/spark-3.1.2/spark-3.1.2-bin-hadoop3.2.tgz\n",
        "!tar xf spark-3.1.2-bin-hadoop3.2.tgz\n",
        "!pip install -q pyspark\n",
        "\n",
        "import os\n",
        "os.environ[\"JAVA_HOME\"] = \"/usr/lib/jvm/java-8-openjdk-amd64\"\n",
        "os.environ[\"SPARK_HOME\"] = \"/content/spark-3.1.2-bin-hadoop3.2\""
      ]
    },
    {
      "cell_type": "code",
      "execution_count": 3,
      "metadata": {
        "id": "BOXYWY_ZTpsy"
      },
      "outputs": [],
      "source": [
        "from pyspark.sql import SparkSession\n",
        "#spark = SparkSession.builder.master(\"local[*]\").getOrCreate()\n",
        "# note UI port switched from default 4040 to 4050 to avoid clash with ngrok\n",
        "spark = SparkSession.builder.master(\"local[*]\").config('spark.ui.port', '4050').getOrCreate()\n",
        "sc = spark.sparkContext"
      ]
    },
    {
      "cell_type": "markdown",
      "source": [
        "# Lazy Initialization and basic EDA using RDD"
      ],
      "metadata": {
        "id": "5e5vcB_k__3q"
      }
    },
    {
      "cell_type": "markdown",
      "source": [
        "Lazy evaluation in Spark means that the execution will not start until an action is triggered. In Spark, the picture of lazy evaluation comes when Spark transformations occur."
      ],
      "metadata": {
        "id": "OJPaHD2iwU29"
      }
    },
    {
      "cell_type": "code",
      "execution_count": 4,
      "metadata": {
        "id": "UPfqchsjcawJ"
      },
      "outputs": [],
      "source": [
        "# download the train and test data from shared google drive into google colab\n",
        "!wget -q -O train.csv https://drive.google.com/uc?id=1EovDiFIotRMjbYOHxPhE37E7H8nnjspm&export=download\n",
        "!wget -q -O test.csv https://drive.google.com/uc?id=1EsUxvxgKAm9VDpULKFv_KkSeTAzyysIU&export=download"
      ]
    },
    {
      "cell_type": "code",
      "execution_count": 5,
      "metadata": {
        "id": "Rvcm1dxNdApX"
      },
      "outputs": [],
      "source": [
        " # Read train file\n",
        "data_file = \"/content/train.csv\"                     \n",
        "train_raw_data  = sc.textFile(data_file)\n",
        "header = train_raw_data.first()\n",
        "# remove the header line from the train RDD\n",
        "train_raw_data = train_raw_data.filter(lambda row : row != header)\n",
        "\n",
        "# Read test file\n",
        "data_file_1 = \"/content/test.csv\"\n",
        "test_raw_data  = spark.sparkContext.textFile(data_file_1)\n",
        "header1 = test_raw_data.first()\n",
        "# remove the header line from the RDD\n",
        "test_raw_data = test_raw_data.filter(lambda row : row != header1)"
      ]
    },
    {
      "cell_type": "code",
      "execution_count": 6,
      "metadata": {
        "colab": {
          "base_uri": "https://localhost:8080/",
          "height": 53
        },
        "id": "9bw7H1VUmdov",
        "outputId": "09b39cb4-d026-4c83-e34f-e8f904263e56"
      },
      "outputs": [
        {
          "output_type": "execute_result",
          "data": {
            "text/plain": [
              "'User_ID,Product_ID,Gender,Age,Occupation,City_Category,Stay_In_Current_City_Years,Marital_Status,Product_Category_1,Product_Category_2,Product_Category_3,Purchase'"
            ],
            "application/vnd.google.colaboratory.intrinsic+json": {
              "type": "string"
            }
          },
          "metadata": {},
          "execution_count": 6
        }
      ],
      "source": [
        "# Header columns in train file\n",
        "header"
      ]
    },
    {
      "cell_type": "code",
      "execution_count": 7,
      "metadata": {
        "colab": {
          "base_uri": "https://localhost:8080/"
        },
        "id": "jFTM-mM9vUwP",
        "outputId": "abdfb896-859a-4366-8310-168f632d68b9"
      },
      "outputs": [
        {
          "output_type": "execute_result",
          "data": {
            "text/plain": [
              "550068"
            ]
          },
          "metadata": {},
          "execution_count": 7
        }
      ],
      "source": [
        "# Total number of records in train dataset\n",
        "train_raw_data.count()"
      ]
    },
    {
      "cell_type": "code",
      "execution_count": 8,
      "metadata": {
        "colab": {
          "base_uri": "https://localhost:8080/"
        },
        "id": "tLH7u71SlPeN",
        "outputId": "d995a407-7621-4fd2-d907-45d44022e962"
      },
      "outputs": [
        {
          "output_type": "execute_result",
          "data": {
            "text/plain": [
              "['1000001,P00069042,F,0-17,10,A,2,0,3,,,8370',\n",
              " '1000001,P00248942,F,0-17,10,A,2,0,1,6,14,15200',\n",
              " '1000001,P00087842,F,0-17,10,A,2,0,12,,,1422',\n",
              " '1000001,P00085442,F,0-17,10,A,2,0,12,14,,1057',\n",
              " '1000002,P00285442,M,55+,16,C,4+,0,8,,,7969']"
            ]
          },
          "metadata": {},
          "execution_count": 8
        }
      ],
      "source": [
        "# Display the first 5 entries in the train dataset\n",
        "train_raw_data.take(5)"
      ]
    },
    {
      "cell_type": "code",
      "execution_count": 9,
      "metadata": {
        "colab": {
          "base_uri": "https://localhost:8080/"
        },
        "id": "_jdQV4wDyX0w",
        "outputId": "968666fd-0933-4fc7-f9a9-d2cfb0394467"
      },
      "outputs": [
        {
          "output_type": "execute_result",
          "data": {
            "text/plain": [
              "233599"
            ]
          },
          "metadata": {},
          "execution_count": 9
        }
      ],
      "source": [
        "# Total number of records in test dataset\n",
        "test_raw_data.count()"
      ]
    },
    {
      "cell_type": "code",
      "execution_count": 10,
      "metadata": {
        "colab": {
          "base_uri": "https://localhost:8080/"
        },
        "id": "93wUCWORgal9",
        "outputId": "5069b308-2ea0-4430-9fd0-93b6d1964487"
      },
      "outputs": [
        {
          "output_type": "execute_result",
          "data": {
            "text/plain": [
              "['1000004,P00128942,M,46-50,7,B,2,1,1,11,',\n",
              " '1000009,P00113442,M,26-35,17,C,0,0,3,5,',\n",
              " '1000010,P00288442,F,36-45,1,B,4+,1,5,14,',\n",
              " '1000010,P00145342,F,36-45,1,B,4+,1,4,9,',\n",
              " '1000011,P00053842,F,26-35,1,C,1,0,4,5,12']"
            ]
          },
          "metadata": {},
          "execution_count": 10
        }
      ],
      "source": [
        "# First five records in test dataset\n",
        "test_raw_data.take(5)"
      ]
    },
    {
      "cell_type": "code",
      "execution_count": 11,
      "metadata": {
        "colab": {
          "base_uri": "https://localhost:8080/"
        },
        "id": "KRoX0pdugDZ3",
        "outputId": "0014c5a0-da1a-4d04-d950-03acccb401a8"
      },
      "outputs": [
        {
          "output_type": "execute_result",
          "data": {
            "text/plain": [
              "135809"
            ]
          },
          "metadata": {},
          "execution_count": 11
        }
      ],
      "source": [
        "# Check the total number of females in the train dataset\n",
        "trans_female_rdd = train_raw_data.filter(lambda x: 'F' in x)\n",
        "trans_female_rdd.take(5)\n",
        "trans_female_rdd.count()\n"
      ]
    },
    {
      "cell_type": "code",
      "execution_count": 12,
      "metadata": {
        "colab": {
          "base_uri": "https://localhost:8080/"
        },
        "id": "QHKeS3z3sMli",
        "outputId": "1d7e3af3-3d67-4fac-b547-6debea70c44b"
      },
      "outputs": [
        {
          "output_type": "execute_result",
          "data": {
            "text/plain": [
              "414259"
            ]
          },
          "metadata": {},
          "execution_count": 12
        }
      ],
      "source": [
        "# Get the number of males in the train dataset by subtracting total females from total count\n",
        "trans_male_rdd = train_raw_data.subtract(trans_female_rdd)\n",
        "trans_male_rdd.count()"
      ]
    },
    {
      "cell_type": "code",
      "execution_count": 13,
      "metadata": {
        "colab": {
          "base_uri": "https://localhost:8080/"
        },
        "id": "EtcbpZfUoQzb",
        "outputId": "357bb778-3fb6-4337-a979-07be8494571f"
      },
      "outputs": [
        {
          "output_type": "stream",
          "name": "stdout",
          "text": [
            "Number of unique users in the training set are 5891\n",
            "Number of unique products in the training set are 3631\n",
            "There are 21390221 combinations of user X product in the training set are:\n"
          ]
        }
      ],
      "source": [
        "# Split the train RDD by comma and store it in csv_data RDD \n",
        "train_csv_data = train_raw_data.map(lambda x: x.split(\",\"))\n",
        "\n",
        "# Get Number of unique users by reading the 1st column\n",
        "users = train_csv_data.map(lambda x: x[0]).distinct()\n",
        "users.collect()\n",
        "\n",
        "print(\"Number of unique users in the training set are {}\".format(users.count()))\n",
        "\n",
        "# Get Number of unique products by reading the 2nd column\n",
        "products = train_csv_data.map(lambda x: x[1]).distinct()\n",
        "products.collect()\n",
        "\n",
        "print(\"Number of unique products in the training set are {}\".format(products.count()))\n",
        "\n",
        "# Build the Cartesian product of User and Product\n",
        "user_product_combination = users.cartesian(products).collect()\n",
        "print(\"There are {} combinations of user X product in the training set are:\".format(len(user_product_combination)))"
      ]
    },
    {
      "cell_type": "code",
      "execution_count": 14,
      "metadata": {
        "id": "0SMxB1IcRTRk"
      },
      "outputs": [],
      "source": [
        "# Infer Schema of train and test csv files using spark read command\n",
        "train = spark.read.format(\"csv\").option(\"header\", \"true\").option(\"inferSchema\", \"true\").load(\"./train.csv\")\n",
        "test = spark.read.format(\"csv\").option(\"header\", \"true\").option(\"inferSchema\", \"true\").load(\"./test.csv\")"
      ]
    },
    {
      "cell_type": "code",
      "execution_count": 15,
      "metadata": {
        "colab": {
          "base_uri": "https://localhost:8080/"
        },
        "id": "eO4vzLUbTIzg",
        "outputId": "11e9780d-87de-4869-bea2-9ac99e149408"
      },
      "outputs": [
        {
          "output_type": "execute_result",
          "data": {
            "text/plain": [
              "Row(User_ID=1000001, Product_ID='P00069042', Gender='F', Age='0-17', Occupation=10, City_Category='A', Stay_In_Current_City_Years='2', Marital_Status=0, Product_Category_1=3, Product_Category_2=None, Product_Category_3=None, Purchase=8370)"
            ]
          },
          "metadata": {},
          "execution_count": 15
        }
      ],
      "source": [
        "# Display the first entry in the train file\n",
        "train.head()"
      ]
    },
    {
      "cell_type": "code",
      "execution_count": 16,
      "metadata": {
        "colab": {
          "base_uri": "https://localhost:8080/"
        },
        "id": "7wY5lHVIQ1Qh",
        "outputId": "58495132-1e8e-40bc-9d36-5dce70130d0d"
      },
      "outputs": [
        {
          "output_type": "execute_result",
          "data": {
            "text/plain": [
              "Row(User_ID=1000004, Product_ID='P00128942', Gender='M', Age='46-50', Occupation=7, City_Category='B', Stay_In_Current_City_Years='2', Marital_Status=1, Product_Category_1=1, Product_Category_2=11, Product_Category_3=None)"
            ]
          },
          "metadata": {},
          "execution_count": 16
        }
      ],
      "source": [
        "# Display the first entry in the test file\n",
        "test.head()"
      ]
    },
    {
      "cell_type": "code",
      "execution_count": 17,
      "metadata": {
        "colab": {
          "base_uri": "https://localhost:8080/"
        },
        "id": "3pMi7LiABD2m",
        "outputId": "4b30c7c1-62e4-4f30-d8c8-c124bce82cae"
      },
      "outputs": [
        {
          "output_type": "stream",
          "name": "stdout",
          "text": [
            "+----------+-----+------+\n",
            "|Age_Gender|    F|     M|\n",
            "+----------+-----+------+\n",
            "|      0-17| 5083| 10019|\n",
            "|     46-50|13199| 32502|\n",
            "|     18-25|24628| 75032|\n",
            "|     36-45|27170| 82843|\n",
            "|       55+| 5083| 16421|\n",
            "|     51-55| 9894| 28607|\n",
            "|     26-35|50752|168835|\n",
            "+----------+-----+------+\n",
            "\n"
          ]
        }
      ],
      "source": [
        "# Show total male, female count in each age group\n",
        "train.crosstab('Age', 'Gender').show()"
      ]
    },
    {
      "cell_type": "code",
      "source": [
        "train_pd = train.toPandas()  "
      ],
      "metadata": {
        "id": "nORK8fRYDuB_"
      },
      "execution_count": 18,
      "outputs": []
    },
    {
      "cell_type": "markdown",
      "source": [
        "# Further more analysis using SQL"
      ],
      "metadata": {
        "id": "RvDh-u2IFaog"
      }
    },
    {
      "cell_type": "markdown",
      "source": [
        "Further analysis was done using SQL so that we can understand the buying patterns based on the input attributes. It will give us some idea\n",
        "on the different groups and their spending behaviour."
      ],
      "metadata": {
        "id": "WOQ4EP4sZuvF"
      }
    },
    {
      "cell_type": "code",
      "execution_count": 19,
      "metadata": {
        "id": "Sl2dZJkMDke8"
      },
      "outputs": [],
      "source": [
        "#Creates a temporary view for the training data\n",
        "train.createOrReplaceTempView(\"train_table\")\n",
        "\n",
        "#Creates a temporary view for the test data\n",
        "test.createOrReplaceTempView(\"test_table\")"
      ]
    },
    {
      "cell_type": "code",
      "execution_count": 20,
      "metadata": {
        "colab": {
          "base_uri": "https://localhost:8080/"
        },
        "id": "8Sf7OAatDQFw",
        "outputId": "3030891f-7146-4b60-913d-5f54a690fa57"
      },
      "outputs": [
        {
          "output_type": "stream",
          "name": "stdout",
          "text": [
            "+-----+-------------+\n",
            "|  Age|max(Purchase)|\n",
            "+-----+-------------+\n",
            "|18-25|        23958|\n",
            "|26-35|        23961|\n",
            "| 0-17|        23955|\n",
            "|46-50|        23960|\n",
            "|51-55|        23960|\n",
            "|36-45|        23960|\n",
            "|  55+|        23960|\n",
            "+-----+-------------+\n",
            "\n"
          ]
        }
      ],
      "source": [
        "# Get the highest purchase amount for each age group from the training dataset\n",
        "spark.sql('select Age, max(Purchase) from train_table group by Age').show()"
      ]
    },
    {
      "cell_type": "code",
      "execution_count": 21,
      "metadata": {
        "colab": {
          "base_uri": "https://localhost:8080/"
        },
        "id": "xT_YkDCiKY4I",
        "outputId": "ee9c712c-e825-4590-fb56-4c7d4a84e340"
      },
      "outputs": [
        {
          "output_type": "stream",
          "name": "stdout",
          "text": [
            "+-------------+-------------+-----------------+\n",
            "|min(Purchase)|max(Purchase)|   mean(Purchase)|\n",
            "+-------------+-------------+-----------------+\n",
            "|           12|        23961|9263.968712959126|\n",
            "+-------------+-------------+-----------------+\n",
            "\n"
          ]
        }
      ],
      "source": [
        "# Get the highest, lowest and average purchase amount for each age group from the training dataset\n",
        "spark.sql('select min(Purchase), max(Purchase), mean(Purchase) from train_table').show()\n"
      ]
    },
    {
      "cell_type": "code",
      "source": [
        "import pandas as pd\n",
        "train_pd = train.toPandas()\n",
        "train_pd.describe()"
      ],
      "metadata": {
        "colab": {
          "base_uri": "https://localhost:8080/",
          "height": 300
        },
        "id": "ly1jjCQgNW1R",
        "outputId": "cce045d6-d725-4dad-8365-b448f9950106"
      },
      "execution_count": 22,
      "outputs": [
        {
          "output_type": "execute_result",
          "data": {
            "text/plain": [
              "            User_ID     Occupation  Marital_Status  Product_Category_1  \\\n",
              "count  5.500680e+05  550068.000000   550068.000000       550068.000000   \n",
              "mean   1.003029e+06       8.076707        0.409653            5.404270   \n",
              "std    1.727592e+03       6.522660        0.491770            3.936211   \n",
              "min    1.000001e+06       0.000000        0.000000            1.000000   \n",
              "25%    1.001516e+06       2.000000        0.000000            1.000000   \n",
              "50%    1.003077e+06       7.000000        0.000000            5.000000   \n",
              "75%    1.004478e+06      14.000000        1.000000            8.000000   \n",
              "max    1.006040e+06      20.000000        1.000000           20.000000   \n",
              "\n",
              "       Product_Category_2  Product_Category_3       Purchase  \n",
              "count       376430.000000       166821.000000  550068.000000  \n",
              "mean             9.842329           12.668243    9263.968713  \n",
              "std              5.086590            4.125338    5023.065394  \n",
              "min              2.000000            3.000000      12.000000  \n",
              "25%              5.000000            9.000000    5823.000000  \n",
              "50%              9.000000           14.000000    8047.000000  \n",
              "75%             15.000000           16.000000   12054.000000  \n",
              "max             18.000000           18.000000   23961.000000  "
            ],
            "text/html": [
              "\n",
              "  <div id=\"df-9474fc0e-1d76-4bb2-808e-27d1e4e10141\">\n",
              "    <div class=\"colab-df-container\">\n",
              "      <div>\n",
              "<style scoped>\n",
              "    .dataframe tbody tr th:only-of-type {\n",
              "        vertical-align: middle;\n",
              "    }\n",
              "\n",
              "    .dataframe tbody tr th {\n",
              "        vertical-align: top;\n",
              "    }\n",
              "\n",
              "    .dataframe thead th {\n",
              "        text-align: right;\n",
              "    }\n",
              "</style>\n",
              "<table border=\"1\" class=\"dataframe\">\n",
              "  <thead>\n",
              "    <tr style=\"text-align: right;\">\n",
              "      <th></th>\n",
              "      <th>User_ID</th>\n",
              "      <th>Occupation</th>\n",
              "      <th>Marital_Status</th>\n",
              "      <th>Product_Category_1</th>\n",
              "      <th>Product_Category_2</th>\n",
              "      <th>Product_Category_3</th>\n",
              "      <th>Purchase</th>\n",
              "    </tr>\n",
              "  </thead>\n",
              "  <tbody>\n",
              "    <tr>\n",
              "      <th>count</th>\n",
              "      <td>5.500680e+05</td>\n",
              "      <td>550068.000000</td>\n",
              "      <td>550068.000000</td>\n",
              "      <td>550068.000000</td>\n",
              "      <td>376430.000000</td>\n",
              "      <td>166821.000000</td>\n",
              "      <td>550068.000000</td>\n",
              "    </tr>\n",
              "    <tr>\n",
              "      <th>mean</th>\n",
              "      <td>1.003029e+06</td>\n",
              "      <td>8.076707</td>\n",
              "      <td>0.409653</td>\n",
              "      <td>5.404270</td>\n",
              "      <td>9.842329</td>\n",
              "      <td>12.668243</td>\n",
              "      <td>9263.968713</td>\n",
              "    </tr>\n",
              "    <tr>\n",
              "      <th>std</th>\n",
              "      <td>1.727592e+03</td>\n",
              "      <td>6.522660</td>\n",
              "      <td>0.491770</td>\n",
              "      <td>3.936211</td>\n",
              "      <td>5.086590</td>\n",
              "      <td>4.125338</td>\n",
              "      <td>5023.065394</td>\n",
              "    </tr>\n",
              "    <tr>\n",
              "      <th>min</th>\n",
              "      <td>1.000001e+06</td>\n",
              "      <td>0.000000</td>\n",
              "      <td>0.000000</td>\n",
              "      <td>1.000000</td>\n",
              "      <td>2.000000</td>\n",
              "      <td>3.000000</td>\n",
              "      <td>12.000000</td>\n",
              "    </tr>\n",
              "    <tr>\n",
              "      <th>25%</th>\n",
              "      <td>1.001516e+06</td>\n",
              "      <td>2.000000</td>\n",
              "      <td>0.000000</td>\n",
              "      <td>1.000000</td>\n",
              "      <td>5.000000</td>\n",
              "      <td>9.000000</td>\n",
              "      <td>5823.000000</td>\n",
              "    </tr>\n",
              "    <tr>\n",
              "      <th>50%</th>\n",
              "      <td>1.003077e+06</td>\n",
              "      <td>7.000000</td>\n",
              "      <td>0.000000</td>\n",
              "      <td>5.000000</td>\n",
              "      <td>9.000000</td>\n",
              "      <td>14.000000</td>\n",
              "      <td>8047.000000</td>\n",
              "    </tr>\n",
              "    <tr>\n",
              "      <th>75%</th>\n",
              "      <td>1.004478e+06</td>\n",
              "      <td>14.000000</td>\n",
              "      <td>1.000000</td>\n",
              "      <td>8.000000</td>\n",
              "      <td>15.000000</td>\n",
              "      <td>16.000000</td>\n",
              "      <td>12054.000000</td>\n",
              "    </tr>\n",
              "    <tr>\n",
              "      <th>max</th>\n",
              "      <td>1.006040e+06</td>\n",
              "      <td>20.000000</td>\n",
              "      <td>1.000000</td>\n",
              "      <td>20.000000</td>\n",
              "      <td>18.000000</td>\n",
              "      <td>18.000000</td>\n",
              "      <td>23961.000000</td>\n",
              "    </tr>\n",
              "  </tbody>\n",
              "</table>\n",
              "</div>\n",
              "      <button class=\"colab-df-convert\" onclick=\"convertToInteractive('df-9474fc0e-1d76-4bb2-808e-27d1e4e10141')\"\n",
              "              title=\"Convert this dataframe to an interactive table.\"\n",
              "              style=\"display:none;\">\n",
              "        \n",
              "  <svg xmlns=\"http://www.w3.org/2000/svg\" height=\"24px\"viewBox=\"0 0 24 24\"\n",
              "       width=\"24px\">\n",
              "    <path d=\"M0 0h24v24H0V0z\" fill=\"none\"/>\n",
              "    <path d=\"M18.56 5.44l.94 2.06.94-2.06 2.06-.94-2.06-.94-.94-2.06-.94 2.06-2.06.94zm-11 1L8.5 8.5l.94-2.06 2.06-.94-2.06-.94L8.5 2.5l-.94 2.06-2.06.94zm10 10l.94 2.06.94-2.06 2.06-.94-2.06-.94-.94-2.06-.94 2.06-2.06.94z\"/><path d=\"M17.41 7.96l-1.37-1.37c-.4-.4-.92-.59-1.43-.59-.52 0-1.04.2-1.43.59L10.3 9.45l-7.72 7.72c-.78.78-.78 2.05 0 2.83L4 21.41c.39.39.9.59 1.41.59.51 0 1.02-.2 1.41-.59l7.78-7.78 2.81-2.81c.8-.78.8-2.07 0-2.86zM5.41 20L4 18.59l7.72-7.72 1.47 1.35L5.41 20z\"/>\n",
              "  </svg>\n",
              "      </button>\n",
              "      \n",
              "  <style>\n",
              "    .colab-df-container {\n",
              "      display:flex;\n",
              "      flex-wrap:wrap;\n",
              "      gap: 12px;\n",
              "    }\n",
              "\n",
              "    .colab-df-convert {\n",
              "      background-color: #E8F0FE;\n",
              "      border: none;\n",
              "      border-radius: 50%;\n",
              "      cursor: pointer;\n",
              "      display: none;\n",
              "      fill: #1967D2;\n",
              "      height: 32px;\n",
              "      padding: 0 0 0 0;\n",
              "      width: 32px;\n",
              "    }\n",
              "\n",
              "    .colab-df-convert:hover {\n",
              "      background-color: #E2EBFA;\n",
              "      box-shadow: 0px 1px 2px rgba(60, 64, 67, 0.3), 0px 1px 3px 1px rgba(60, 64, 67, 0.15);\n",
              "      fill: #174EA6;\n",
              "    }\n",
              "\n",
              "    [theme=dark] .colab-df-convert {\n",
              "      background-color: #3B4455;\n",
              "      fill: #D2E3FC;\n",
              "    }\n",
              "\n",
              "    [theme=dark] .colab-df-convert:hover {\n",
              "      background-color: #434B5C;\n",
              "      box-shadow: 0px 1px 3px 1px rgba(0, 0, 0, 0.15);\n",
              "      filter: drop-shadow(0px 1px 2px rgba(0, 0, 0, 0.3));\n",
              "      fill: #FFFFFF;\n",
              "    }\n",
              "  </style>\n",
              "\n",
              "      <script>\n",
              "        const buttonEl =\n",
              "          document.querySelector('#df-9474fc0e-1d76-4bb2-808e-27d1e4e10141 button.colab-df-convert');\n",
              "        buttonEl.style.display =\n",
              "          google.colab.kernel.accessAllowed ? 'block' : 'none';\n",
              "\n",
              "        async function convertToInteractive(key) {\n",
              "          const element = document.querySelector('#df-9474fc0e-1d76-4bb2-808e-27d1e4e10141');\n",
              "          const dataTable =\n",
              "            await google.colab.kernel.invokeFunction('convertToInteractive',\n",
              "                                                     [key], {});\n",
              "          if (!dataTable) return;\n",
              "\n",
              "          const docLinkHtml = 'Like what you see? Visit the ' +\n",
              "            '<a target=\"_blank\" href=https://colab.research.google.com/notebooks/data_table.ipynb>data table notebook</a>'\n",
              "            + ' to learn more about interactive tables.';\n",
              "          element.innerHTML = '';\n",
              "          dataTable['output_type'] = 'display_data';\n",
              "          await google.colab.output.renderOutput(dataTable, element);\n",
              "          const docLink = document.createElement('div');\n",
              "          docLink.innerHTML = docLinkHtml;\n",
              "          element.appendChild(docLink);\n",
              "        }\n",
              "      </script>\n",
              "    </div>\n",
              "  </div>\n",
              "  "
            ]
          },
          "metadata": {},
          "execution_count": 22
        }
      ]
    },
    {
      "cell_type": "code",
      "source": [
        "import matplotlib.pyplot as plt\n",
        "import seaborn as sns\n",
        "plt.figure(figsize=(8,5),dpi=120)\n",
        "sns.barplot(y = train_pd['Gender'].value_counts(),x=train_pd['Gender'].value_counts().index,palette = 'Set1')\n",
        "plt.xlabel('Gender')\n",
        "plt.ylabel('Count')\n",
        "plt.title('Male female distribution')\n",
        "plt.show()"
      ],
      "metadata": {
        "colab": {
          "base_uri": "https://localhost:8080/",
          "height": 573
        },
        "id": "cYHzM-FlOAiC",
        "outputId": "ce23d152-aabc-4bdf-f702-3989ed50a66d"
      },
      "execution_count": 23,
      "outputs": [
        {
          "output_type": "display_data",
          "data": {
            "text/plain": [
              "<Figure size 960x600 with 1 Axes>"
            ],
            "image/png": "[encoded data removed]"
          },
          "metadata": {
            "needs_background": "light"
          }
        }
      ]
    },
    {
      "cell_type": "code",
      "source": [
        "plt.figure(figsize=(8,5),dpi=120)\n",
        "sns.barplot(y = train_pd['Age'].value_counts(),x=train_pd['Age'].value_counts().index,palette = 'Set1')\n",
        "plt.xlabel('Gender')\n",
        "plt.ylabel('Count')\n",
        "plt.title('Age Group distribution')\n",
        "plt.show()"
      ],
      "metadata": {
        "colab": {
          "base_uri": "https://localhost:8080/",
          "height": 573
        },
        "id": "pqQdjUrpPBd5",
        "outputId": "94e10a13-fc95-4ea3-8750-a231f35b8edb"
      },
      "execution_count": 24,
      "outputs": [
        {
          "output_type": "display_data",
          "data": {
            "text/plain": [
              "<Figure size 960x600 with 1 Axes>"
            ],
            "image/png": "[encoded data removed]"
          },
          "metadata": {
            "needs_background": "light"
          }
        }
      ]
    },
    {
      "cell_type": "markdown",
      "source": [
        "# Training and evaluating the model"
      ],
      "metadata": {
        "id": "h8uNXGvfKVtL"
      }
    },
    {
      "cell_type": "markdown",
      "source": [
        "Training the model means ML algorithm finds patterns in the training data and use this knowledge to map the input data attributes/features to the target i.e the answer that it wants to predict. After training, output of the model captures these patterns.\n",
        "\n",
        "Once model is trained, it has to be evaluated in terms of how well it has managed to predict the correct result. In this case, we will check the RMSE (root mean squared error) score. First the difference between the actual value and predicted value is calculated. Then, it is squared and the then the mean of the square root is found. Best model is the one with lowest RMSE score and which does not have performance issue with minimum set of parameters so that it does not overfit or underfit.\n",
        "\n",
        "\n",
        "\n"
      ],
      "metadata": {
        "id": "tKbMIqEcV9gd"
      }
    },
    {
      "cell_type": "code",
      "execution_count": 25,
      "metadata": {
        "id": "J0N7SoZYaNgM"
      },
      "outputs": [],
      "source": [
        "from pyspark.sql.functions import substring, monotonically_increasing_id\n",
        "import pyspark.sql.functions as f"
      ]
    },
    {
      "cell_type": "code",
      "source": [
        "df_temp  = spark.sql('select user_id as user_id1,product_id as product_key, round(purchase / 1000,2) as rating from train_table')"
      ],
      "metadata": {
        "id": "CWFXVbK5iaVK"
      },
      "execution_count": 26,
      "outputs": []
    },
    {
      "cell_type": "code",
      "source": [
        "df_user = df_temp.select(\"user_id1\").distinct().coalesce(1)\n",
        "df_user = df_user.withColumn(\"user_id\", monotonically_increasing_id()).persist()"
      ],
      "metadata": {
        "id": "BMqYiP1jjQal"
      },
      "execution_count": 27,
      "outputs": []
    },
    {
      "cell_type": "code",
      "source": [
        "df_product = df_temp.select(\"product_key\").distinct().coalesce(1)\n",
        "df_product = df_product.withColumn(\"product_id\", monotonically_increasing_id()).persist()\n"
      ],
      "metadata": {
        "id": "IHdX8PROkj-V"
      },
      "execution_count": 28,
      "outputs": []
    },
    {
      "cell_type": "code",
      "source": [
        "df_train = df_temp.join(df_user,\"user_id1\", \"left\").join(df_product,\"product_key\",\"left\")\n",
        "df_train.show()"
      ],
      "metadata": {
        "colab": {
          "base_uri": "https://localhost:8080/"
        },
        "id": "gCMGWFfujsQY",
        "outputId": "a7dd375d-b300-417d-be69-12e5d6c6f0d2"
      },
      "execution_count": 29,
      "outputs": [
        {
          "output_type": "stream",
          "name": "stdout",
          "text": [
            "+-----------+--------+------+-------+----------+\n",
            "|product_key|user_id1|rating|user_id|product_id|\n",
            "+-----------+--------+------+-------+----------+\n",
            "|  P00069042| 1000001|  8.37|   1787|       730|\n",
            "|  P00248942| 1000001|  15.2|   1787|      1362|\n",
            "|  P00087842| 1000001|  1.42|   1787|       152|\n",
            "|  P00085442| 1000001|  1.06|   1787|      1490|\n",
            "|  P00285442| 1000002|  7.97|   2620|       927|\n",
            "|  P00193542| 1000003| 15.23|   1491|      1263|\n",
            "|  P00184942| 1000004| 19.22|   2957|       907|\n",
            "|  P00346142| 1000004| 15.85|   2957|      2404|\n",
            "|   P0097242| 1000004| 15.69|   2957|      2560|\n",
            "|  P00274942| 1000005|  7.87|    497|      1660|\n",
            "|  P00251242| 1000005|  5.25|    497|        89|\n",
            "|  P00014542| 1000005|  3.96|    497|        17|\n",
            "|  P00031342| 1000005|  6.07|    497|      2476|\n",
            "|  P00145042| 1000005| 15.67|    497|      1214|\n",
            "|  P00231342| 1000006|  5.38|   3905|      1980|\n",
            "|  P00190242| 1000006|  2.08|   3905|      1130|\n",
            "|   P0096642| 1000006| 13.06|   3905|       129|\n",
            "|  P00058442| 1000006|  8.85|   3905|      1417|\n",
            "|  P00036842| 1000007| 11.79|   1189|      2670|\n",
            "|  P00249542| 1000008| 19.61|   5806|      2990|\n",
            "+-----------+--------+------+-------+----------+\n",
            "only showing top 20 rows\n",
            "\n"
          ]
        }
      ]
    },
    {
      "cell_type": "code",
      "execution_count": 30,
      "metadata": {
        "id": "LYs08trEkokg"
      },
      "outputs": [],
      "source": [
        "# Do type conversion, convert product id from string to integer\n",
        "from pyspark.sql.types import IntegerType"
      ]
    },
    {
      "cell_type": "code",
      "source": [
        "# Read the first entry\n",
        "df_train.head()"
      ],
      "metadata": {
        "colab": {
          "base_uri": "https://localhost:8080/"
        },
        "id": "HA0VdlT1UKLC",
        "outputId": "a75c4f0d-ea7c-4478-8b9a-03610dd8e663"
      },
      "execution_count": 31,
      "outputs": [
        {
          "output_type": "execute_result",
          "data": {
            "text/plain": [
              "Row(product_key='P00069042', user_id1=1000001, rating=8.37, user_id=1787, product_id=730)"
            ]
          },
          "metadata": {},
          "execution_count": 31
        }
      ]
    },
    {
      "cell_type": "code",
      "execution_count": 32,
      "metadata": {
        "id": "oiOP0GFMMV-o"
      },
      "outputs": [],
      "source": [
        "# import the necessary libraries\n",
        "from pyspark.sql import SQLContext\n",
        "from pyspark.ml.evaluation import RegressionEvaluator\n",
        "from pyspark.ml.tuning import CrossValidator, ParamGridBuilder\n",
        "from pyspark.ml import Pipeline\n",
        "from pyspark.sql import Row\n",
        "from pyspark.ml.recommendation import ALS\n",
        "from pyspark.sql.functions import udf, col, when\n",
        "import numpy as np"
      ]
    },
    {
      "cell_type": "code",
      "execution_count": 33,
      "metadata": {
        "id": "8xF-UEX9HtSK"
      },
      "outputs": [],
      "source": [
        "# Set the hyperparameters of ALS\n",
        "iterations = 10\n",
        "regularization_parameter = 0.1 # Lambda\n",
        "rank=5\n",
        "errors = []\n",
        "err = 0\n",
        "\n",
        "# Splitting the training dataset into training and validation dataset in the ration 75:25\n",
        "df_training, df_validation = df_train.randomSplit([.75, .25])"
      ]
    },
    {
      "cell_type": "code",
      "execution_count": 34,
      "metadata": {
        "colab": {
          "base_uri": "https://localhost:8080/"
        },
        "id": "9lVncDH9HRo1",
        "outputId": "767c571f-ba1c-4ee9-d372-7970e14efefe"
      },
      "outputs": [
        {
          "output_type": "stream",
          "name": "stdout",
          "text": [
            "Root Mean Square Error Value = 2.4797345071771657\n",
            "for rank 5 Root Mean Square Error Value = 2.4797345071771657\n"
          ]
        }
      ],
      "source": [
        "# Train the model with preset hyperparameters\n",
        "\n",
        "# initialize the model with the parameters\n",
        "als = ALS(maxIter=iterations, regParam=regularization_parameter, rank=5, userCol=\"user_id\", itemCol = \"product_id\", ratingCol=\"rating\")\n",
        "# fit the model\n",
        "model = als.fit(df_training)\n",
        "# predict rating based on validation data\n",
        "predictions = model.transform(df_validation)\n",
        "new_predictions = predictions.filter(col('prediction') != np.nan)\n",
        "# evaluate the RMSE for the rating\n",
        "evaluator = RegressionEvaluator(metricName=\"rmse\", labelCol=\"rating\", predictionCol=\"prediction\")\n",
        "rmse = evaluator.evaluate(new_predictions)\n",
        "print(\"Root Mean Square Error Value = \" + str(rmse))\n",
        "print(\"for rank {} Root Mean Square Error Value = {}\" .format(rank,rmse))"
      ]
    },
    {
      "cell_type": "code",
      "execution_count": 35,
      "metadata": {
        "id": "vS7Vp-Bbmu1q"
      },
      "outputs": [],
      "source": [
        "# Optional steps to get the best model by changing the rank hyperparameter\n",
        "# Runs successfully but commented because since it is time consuming\n",
        "\n",
        "#iterations=10\n",
        "#for rank in range(1,15):\n",
        "  #als = ALS(maxIter=iterations, regParam=regularization_parameter, rank=rank, userCol=\"user_id\", itemCol = 'product_id', ratingCol=\"rating\")\n",
        "  #model = als.fit(df_training)\n",
        "  #predictions = model.transform(df_validation)\n",
        "  #new_predictions = predictions.filter(col('prediction') != np.nan)\n",
        "  #evaluator = RegressionEvaluator(metricName=\"rmse\", labelCol=\"rating\", predictionCol=\"prediction\")\n",
        "  #rmse = evaluator.evaluate(new_predictions)\n",
        "  #print(\"for rank {}, iterations {} Root Mean Square Error Value = {}\" .format(rank,iterations,rmse))\n",
        "  ##print(\"Root Mean Square Error Value = \" + str(rmse))"
      ]
    },
    {
      "cell_type": "code",
      "execution_count": 36,
      "metadata": {
        "id": "qKovr8PQtKUE"
      },
      "outputs": [],
      "source": [
        "# Optional steps to get the best model by changing rank and regularization parameter and iterations set to 20\n",
        "# Runs successfully but commented because since it is time consuming\n",
        "\n",
        "#iterations = 20\n",
        "#for rank in range(1,20):\n",
        "  #for regularization_parameter in [0.01, 0.05, 0.1, 0.15, 0.2, 0.25, 0.30]:\n",
        "    #als = ALS(maxIter=iterations, regParam=regularization_parameter, rank=rank, userCol=\"user_id\", itemCol = 'product_id', ratingCol=\"rating\")\n",
        "    #model = als.fit(df_training)\n",
        "    #predictions = model.transform(df_validation)\n",
        "    #new_predictions1 = predictions.filter(col('prediction') != np.nan)\n",
        "    #evaluator = RegressionEvaluator(metricName=\"rmse\", labelCol=\"rating\", predictionCol=\"prediction\")\n",
        "    #rmse = evaluator.evaluate(new_predictions1)\n",
        "    #print(\"for rank {},iteration {}, regularization_parameter {} Root Mean Square Error Value = {}\" .format(rank,iterations,regularization_parameter, rmse))\n",
        "    ##print(\"Root Mean Square Error Value = \" + str(rmse))"
      ]
    },
    {
      "cell_type": "markdown",
      "source": [
        "# Hyperparameter tuning"
      ],
      "metadata": {
        "id": "oy8jN4rbMedg"
      }
    },
    {
      "cell_type": "markdown",
      "source": [
        "Hyperparameter tuning is used to tune the model based on the optimal parameters to find the best performance.\n",
        "\n",
        "For ALS, main hyperparameters are rank, regularization parameter and maximum iterations.\n",
        "\n",
        "ALS takes matrix of ratings and will factor that into two different matrices. one representing the user and another one representing the product. In the process of doing this latent features are uncovered. \n",
        "\n",
        "**Rank** \n",
        "ALS allows us to choose the number of latent features. For meaningful grouping of products to see how similar the products are (or experiment with different number of latent features. If there are too few or too many latent features the groupings might be difficult to understand. So, we need to look at different number of latent features and manually identify what makes the most sense.\n",
        "\n",
        "**Regularization parameters**  Number added to error metric to keep the algorithm converging too quickly fitting to the training data\n",
        "\n",
        "**Maximum iterations** is number of items to iterate between factor matrices back and forth adjusting the values to reduct the RMSE. Higher number of iterations longer it will take to complete. Fewer iterations have the risk of not reducing the error.\n"
      ],
      "metadata": {
        "id": "5l6tHDOBaHbV"
      }
    },
    {
      "cell_type": "code",
      "execution_count": 37,
      "metadata": {
        "id": "_u2E2NWh7kCR"
      },
      "outputs": [],
      "source": [
        "# Add hyperparameters and their respective values to param_grid\n",
        "param_grid = ParamGridBuilder() \\\n",
        "            .addGrid(als.rank, range(4,10)) \\\n",
        "            .addGrid(als.regParam, [.1, .15, .2, 0.3]) \\\n",
        "            .addGrid(als.maxIter, [20]) \\\n",
        "            .build()"
      ]
    },
    {
      "cell_type": "code",
      "execution_count": 38,
      "metadata": {
        "id": "bROfc82dAliV"
      },
      "outputs": [],
      "source": [
        "# Build cross validation using CrossValidator\n",
        "evaluator = RegressionEvaluator(metricName = \"rmse\", labelCol = \"rating\", predictionCol = \"prediction\")\n",
        "# Check the cross validation score\n",
        "cv = CrossValidator(estimator=als, estimatorParamMaps=param_grid, evaluator=evaluator, numFolds=5)"
      ]
    },
    {
      "cell_type": "code",
      "execution_count": 39,
      "metadata": {
        "id": "MSdJKTBCAsCE"
      },
      "outputs": [],
      "source": [
        "# fit the model using the combinations provided in the hyperparameter list\n",
        "cvModel = cv.fit(df_training)\n"
      ]
    },
    {
      "cell_type": "code",
      "source": [
        "# get the best model along with the best hyperparameter values\n",
        "best_model = cvModel.bestModel\n",
        "\n",
        "print(f\"Rank = {best_model._java_obj.parent().getRank()}\")\n",
        "print(f\"MaxIter = {best_model._java_obj.parent().getMaxIter()}\")\n",
        "print(f\"RegParam = {best_model._java_obj.parent().getRegParam()}\")"
      ],
      "metadata": {
        "colab": {
          "base_uri": "https://localhost:8080/"
        },
        "id": "tdaKiIPNzApq",
        "outputId": "8db8acd8-2774-4af5-b0b5-11e2a88bfa3a"
      },
      "execution_count": 40,
      "outputs": [
        {
          "output_type": "stream",
          "name": "stdout",
          "text": [
            "Rank = 4\n",
            "MaxIter = 20\n",
            "RegParam = 0.1\n"
          ]
        }
      ]
    },
    {
      "cell_type": "markdown",
      "source": [
        ""
      ],
      "metadata": {
        "id": "oWBgd5nFRxcT"
      }
    },
    {
      "cell_type": "markdown",
      "source": [
        "# Predict based on Validation data\n",
        "\n",
        "We will predict based on the validation data and see how well was it able to predict the results"
      ],
      "metadata": {
        "id": "me4G-RHsR0Th"
      }
    },
    {
      "cell_type": "code",
      "source": [
        "# Fit the model and predictbased on the best tuned hyperparameters\n",
        "final_als = ALS(maxIter=20, regParam=0.1, rank=4, userCol=\"user_id\", itemCol = 'product_id', ratingCol=\"rating\")\n",
        "# Fit the model\n",
        "final_model = final_als.fit(df_training)\n",
        "# Predict \n",
        "predictions = final_model.transform(df_validation)\n",
        "# Show the first 10 predictions\n",
        "predictions.show(n=10)"
      ],
      "metadata": {
        "colab": {
          "base_uri": "https://localhost:8080/"
        },
        "id": "woSzicFf2HA2",
        "outputId": "495b6466-7d75-4e36-ae56-ad5d1426546e"
      },
      "execution_count": 41,
      "outputs": [
        {
          "output_type": "stream",
          "name": "stdout",
          "text": [
            "+-----------+--------+------+-------+----------+----------+\n",
            "|product_key|user_id1|rating|user_id|product_id|prediction|\n",
            "+-----------+--------+------+-------+----------+----------+\n",
            "|  P00108142| 1003836|  4.56|   4876|       148| 3.5752532|\n",
            "|  P00108142| 1001186|  6.06|   2535|       148|  3.293592|\n",
            "|  P00108142| 1003476|  1.69|    506|       148| 3.3524244|\n",
            "|  P00038342| 1004277| 12.83|   3841|       463| 11.346268|\n",
            "|  P00038342| 1000195| 16.48|    164|       463| 10.683357|\n",
            "|  P00038342| 1003054|  9.63|   1326|       463|  8.823515|\n",
            "|  P00038342| 1005220|  6.78|   3958|       463| 10.255507|\n",
            "|  P00038342| 1003884|  6.87|   2316|       463|  8.893773|\n",
            "|  P00297442| 1001743|  6.52|   5178|       471| 5.2975616|\n",
            "|  P00297442| 1001198|  9.82|   5543|       471| 10.303121|\n",
            "+-----------+--------+------+-------+----------+----------+\n",
            "only showing top 10 rows\n",
            "\n"
          ]
        }
      ]
    },
    {
      "cell_type": "code",
      "source": [
        "#Generate recommendation for top 5 products for all the users\n",
        "userRecommends = final_model.recommendForAllUsers(5)\n"
      ],
      "metadata": {
        "id": "m_HEchpW3byz"
      },
      "execution_count": 42,
      "outputs": []
    },
    {
      "cell_type": "code",
      "source": [
        "# print the schema\n",
        "userRecommends.printSchema()"
      ],
      "metadata": {
        "colab": {
          "base_uri": "https://localhost:8080/"
        },
        "id": "Sh0hdYMp4wdU",
        "outputId": "0aed5a1f-70a7-4ba6-d763-352b39c4047f"
      },
      "execution_count": 43,
      "outputs": [
        {
          "output_type": "stream",
          "name": "stdout",
          "text": [
            "root\n",
            " |-- user_id: integer (nullable = false)\n",
            " |-- recommendations: array (nullable = true)\n",
            " |    |-- element: struct (containsNull = true)\n",
            " |    |    |-- product_id: integer (nullable = true)\n",
            " |    |    |-- rating: float (nullable = true)\n",
            "\n"
          ]
        }
      ]
    },
    {
      "cell_type": "code",
      "source": [
        "# Display the top 5 product recommendatons suggested by the engine for the first 10 users\n",
        "userRecommends.select(\"user_id\", \"recommendations.product_id\").show(10,False)"
      ],
      "metadata": {
        "colab": {
          "base_uri": "https://localhost:8080/"
        },
        "id": "86WMEpY398qH",
        "outputId": "7fe99c4f-120e-4f97-fe1b-1ca54a4db8c2"
      },
      "execution_count": 44,
      "outputs": [
        {
          "output_type": "stream",
          "name": "stdout",
          "text": [
            "+-------+------------------------------+\n",
            "|user_id|product_id                    |\n",
            "+-------+------------------------------+\n",
            "|1580   |[2469, 119, 1305, 814, 3084]  |\n",
            "|4900   |[121, 1782, 2469, 2402, 1557] |\n",
            "|5300   |[2336, 3172, 3084, 2148, 119] |\n",
            "|471    |[2469, 1557, 119, 1682, 121]  |\n",
            "|1591   |[1304, 87, 586, 1213, 289]    |\n",
            "|4101   |[2469, 1305, 3349, 1682, 1357]|\n",
            "|1342   |[413, 289, 2148, 1386, 551]   |\n",
            "|2122   |[2469, 119, 3084, 1557, 814]  |\n",
            "|2142   |[1305, 1357, 3461, 289, 2469] |\n",
            "|463    |[1305, 2469, 1357, 3345, 1712]|\n",
            "+-------+------------------------------+\n",
            "only showing top 10 rows\n",
            "\n"
          ]
        }
      ]
    },
    {
      "cell_type": "code",
      "source": [
        "# Generate recommendation for top 5 users for all the products\n",
        "productRecommends = final_model.recommendForAllItems(5)"
      ],
      "metadata": {
        "id": "YlkdoLVT5Zi0"
      },
      "execution_count": 45,
      "outputs": []
    },
    {
      "cell_type": "code",
      "source": [
        "productRecommends.show(5)"
      ],
      "metadata": {
        "colab": {
          "base_uri": "https://localhost:8080/"
        },
        "id": "klA1C3zcB_Ku",
        "outputId": "3fe6a74f-d472-4903-f0f3-d82bd12f3361"
      },
      "execution_count": 46,
      "outputs": [
        {
          "output_type": "stream",
          "name": "stdout",
          "text": [
            "+----------+--------------------+\n",
            "|product_id|     recommendations|\n",
            "+----------+--------------------+\n",
            "|      1580|[{4330, 12.658335...|\n",
            "|       471|[{735, 12.4676895...|\n",
            "|      1591|[{4536, 8.670233}...|\n",
            "|      1342|[{735, 12.311802}...|\n",
            "|      2122|[{3323, 8.800343}...|\n",
            "+----------+--------------------+\n",
            "only showing top 5 rows\n",
            "\n"
          ]
        }
      ]
    },
    {
      "cell_type": "code",
      "source": [
        "# Display the top 5 product recommendatons suggested by the engine for the first 10 users \n",
        "productRecommends.select(\"product_id\", \"recommendations.user_id\").show(10, False)"
      ],
      "metadata": {
        "colab": {
          "base_uri": "https://localhost:8080/"
        },
        "id": "DOCXLr8niC1W",
        "outputId": "f8267db2-5d88-400b-c8e7-b5a8e45c21f5"
      },
      "execution_count": 47,
      "outputs": [
        {
          "output_type": "stream",
          "name": "stdout",
          "text": [
            "+----------+------------------------------+\n",
            "|product_id|user_id                       |\n",
            "+----------+------------------------------+\n",
            "|1580      |[4330, 1621, 4065, 196, 1487] |\n",
            "|471       |[735, 1775, 2401, 129, 1690]  |\n",
            "|1591      |[4536, 147, 2864, 1690, 740]  |\n",
            "|1342      |[735, 813, 4412, 740, 3875]   |\n",
            "|2122      |[3323, 2954, 147, 355, 5841]  |\n",
            "|2142      |[1621, 1487, 2187, 4330, 4065]|\n",
            "|463       |[4611, 848, 4678, 3630, 1627] |\n",
            "|833       |[124, 2948, 3586, 5123, 4447] |\n",
            "|1645      |[1874, 4065, 4396, 5123, 336] |\n",
            "|3175      |[147, 3323, 4536, 355, 4447]  |\n",
            "+----------+------------------------------+\n",
            "only showing top 10 rows\n",
            "\n"
          ]
        }
      ]
    },
    {
      "cell_type": "code",
      "source": [
        "# Generate top 10 Product recommendations for a specified set of users\n",
        "#users = train.select(\"user_id\").distinct().limit(3)\n",
        "#users.show()\n",
        "\n",
        "users = df_train.select(\"user_id\").distinct().limit(3)\n",
        "users.show()\n"
      ],
      "metadata": {
        "colab": {
          "base_uri": "https://localhost:8080/"
        },
        "id": "s5i8ubSHYAGT",
        "outputId": "1fa22682-4674-42ed-ec4c-382acda180c4"
      },
      "execution_count": 48,
      "outputs": [
        {
          "output_type": "stream",
          "name": "stdout",
          "text": [
            "+-------+\n",
            "|user_id|\n",
            "+-------+\n",
            "|   2529|\n",
            "|   2927|\n",
            "|   2040|\n",
            "+-------+\n",
            "\n"
          ]
        }
      ]
    },
    {
      "cell_type": "code",
      "source": [
        "# Display the 10 product recommended for the specified users\n",
        "userSubsetRecs = final_model.recommendForUserSubset(users,10)\n",
        "userSubsetRecs.select(\"user_id\", \"recommendations.product_id\"). show(10,False)"
      ],
      "metadata": {
        "colab": {
          "base_uri": "https://localhost:8080/"
        },
        "id": "oTUxEZc0Yp7v",
        "outputId": "45bc6bfc-f0f2-4943-e7bd-b589fdd60df0"
      },
      "execution_count": 49,
      "outputs": [
        {
          "output_type": "stream",
          "name": "stdout",
          "text": [
            "+-------+-----------------------------------------------------------+\n",
            "|user_id|product_id                                                 |\n",
            "+-------+-----------------------------------------------------------+\n",
            "|2040   |[1998, 2765, 1931, 536, 1945, 1909, 1304, 1657, 3349, 1923]|\n",
            "|2529   |[3461, 225, 1998, 1305, 1304, 2893, 2765, 3089, 2025, 1762]|\n",
            "|2927   |[2469, 119, 1557, 3084, 1682, 814, 1305, 93, 303, 2327]    |\n",
            "+-------+-----------------------------------------------------------+\n",
            "\n"
          ]
        }
      ]
    },
    {
      "cell_type": "code",
      "source": [
        "# Generate top 10 user recommendations for a specified set of products\n",
        "products = df_train.select(\"product_id\").distinct().limit(3)\n",
        "productSubSetRecs = final_model.recommendForItemSubset(products, 10)\n",
        "productSubSetRecs.select(\"product_id\",\"recommendations.user_id\").show(10,False)"
      ],
      "metadata": {
        "colab": {
          "base_uri": "https://localhost:8080/"
        },
        "id": "NkuAVJ3eclkz",
        "outputId": "b2b34571-e031-4951-db7a-de8456063d87"
      },
      "execution_count": 50,
      "outputs": [
        {
          "output_type": "stream",
          "name": "stdout",
          "text": [
            "+----------+---------------------------------------------------------+\n",
            "|product_id|user_id                                                  |\n",
            "+----------+---------------------------------------------------------+\n",
            "|1677      |[3323, 2954, 147, 1776, 1065, 704, 5344, 3586, 480, 5123]|\n",
            "|2453      |[735, 813, 1874, 1723, 4345, 1777, 933, 5016, 3446, 5058]|\n",
            "|2927      |[1874, 5123, 1166, 4780, 735, 933, 336, 5016, 5058, 1723]|\n",
            "+----------+---------------------------------------------------------+\n",
            "\n"
          ]
        }
      ]
    },
    {
      "cell_type": "markdown",
      "source": [
        "# Predict on unseen test data"
      ],
      "metadata": {
        "id": "vHlXNyT1UVMA"
      }
    },
    {
      "cell_type": "markdown",
      "source": [
        "We will predict the ratings in the test dataset where only user and product related information is available. \n",
        "\n",
        "We may also get the purchase amount by multiplying ratings with 1000."
      ],
      "metadata": {
        "id": "Y5DmijVbkuyU"
      }
    },
    {
      "cell_type": "code",
      "source": [
        "# Build the dataframe\n",
        "#df_test = spark.sql('select user_id,product_id as product_key, SUBSTRING(product_id, 2, length(product_id)) as product_id from test_table')\n",
        "df_temp2 = spark.sql('select user_id as user_id1, product_id as product_key from test_table')\n"
      ],
      "metadata": {
        "id": "l_D3QkUXwqqE"
      },
      "execution_count": 51,
      "outputs": []
    },
    {
      "cell_type": "code",
      "source": [
        "df_user_test1 = df_temp2.select(\"user_id1\").distinct().coalesce(1)\n",
        "#df_user_test1.count()\n",
        "#df_train = df_temp.join(df_user,\"user_id1\", \"left\").join(df_product,\"product_key\",\"left\")\n",
        "df_user_test = df_user_test1.join(df_user,\"user_id1\" ,\"left\")\n",
        "df_user_test.show()\n",
        "#df_user_test = df_user_test.withColumn(\"user_id\", monotonically_increasing_id()).persist()"
      ],
      "metadata": {
        "id": "NWqoIlOKdmTv",
        "colab": {
          "base_uri": "https://localhost:8080/"
        },
        "outputId": "26e9bde8-8528-4091-8be3-627bf6dfeef9"
      },
      "execution_count": 52,
      "outputs": [
        {
          "output_type": "stream",
          "name": "stdout",
          "text": [
            "+--------+-------+\n",
            "|user_id1|user_id|\n",
            "+--------+-------+\n",
            "| 1001129|      4|\n",
            "| 1001601|      6|\n",
            "| 1002431|     18|\n",
            "| 1003031|      8|\n",
            "| 1003938|     10|\n",
            "| 1004021|     11|\n",
            "| 1004666|     13|\n",
            "| 1005158|     15|\n",
            "| 1000149|      0|\n",
            "| 1000190|      1|\n",
            "| 1002605|      7|\n",
            "| 1005853|     17|\n",
            "| 1001139|      5|\n",
            "| 1004552|     12|\n",
            "| 1005439|     20|\n",
            "| 1005697|     16|\n",
            "| 1004739|     14|\n",
            "| 1003373|      9|\n",
            "| 1000636|      2|\n",
            "| 1005476|     19|\n",
            "+--------+-------+\n",
            "only showing top 20 rows\n",
            "\n"
          ]
        }
      ]
    },
    {
      "cell_type": "code",
      "source": [
        "df_product_test1 = df_temp2.select(\"product_key\").distinct().coalesce(1)\n",
        "#df_product_test1.count()\n",
        "df_product_test = df_product_test1.join(df_product,\"product_key\" ,\"left\")\n",
        "df_product_test.show()\n",
        "#df_product_test = df_product_test.withColumn(\"product_id\", monotonically_increasing_id()).persist()"
      ],
      "metadata": {
        "id": "VMh7rGVqdvao",
        "colab": {
          "base_uri": "https://localhost:8080/"
        },
        "outputId": "a1f23f74-1cef-4855-bafe-6b49ef997f5a"
      },
      "execution_count": 53,
      "outputs": [
        {
          "output_type": "stream",
          "name": "stdout",
          "text": [
            "+-----------+----------+\n",
            "|product_key|product_id|\n",
            "+-----------+----------+\n",
            "|  P00281742|         1|\n",
            "|   P0096342|        10|\n",
            "|  P00026042|         2|\n",
            "|   P0098242|         0|\n",
            "|  P00313242|         8|\n",
            "|  P00048442|         6|\n",
            "|  P00323242|        14|\n",
            "|  P00159842|         4|\n",
            "|  P00015342|         3|\n",
            "|  P00146342|        11|\n",
            "|  P00180642|        12|\n",
            "|  P00078842|         7|\n",
            "|  P00162642|         5|\n",
            "|  P00318342|         9|\n",
            "|  P00256142|        13|\n",
            "|  P00162742|        16|\n",
            "|  P00014542|        17|\n",
            "|  P00165442|        20|\n",
            "|  P00119442|        28|\n",
            "|  P00212242|        19|\n",
            "+-----------+----------+\n",
            "only showing top 20 rows\n",
            "\n"
          ]
        }
      ]
    },
    {
      "cell_type": "code",
      "source": [
        "df_test = df_temp2.join(df_user_test,\"user_id1\", \"left\").join(df_product_test,\"product_key\",\"left\")\n"
      ],
      "metadata": {
        "id": "6NzC1Uw4d_CM"
      },
      "execution_count": 54,
      "outputs": []
    },
    {
      "cell_type": "code",
      "source": [
        "# Show the first 5 entries\n",
        "df_test.show(5)"
      ],
      "metadata": {
        "colab": {
          "base_uri": "https://localhost:8080/"
        },
        "id": "Vsx8bAj3xRlY",
        "outputId": "d821fe7e-8566-4dcf-9065-c20d01578ba1"
      },
      "execution_count": 55,
      "outputs": [
        {
          "output_type": "stream",
          "name": "stdout",
          "text": [
            "+-----------+--------+-------+----------+\n",
            "|product_key|user_id1|user_id|product_id|\n",
            "+-----------+--------+-------+----------+\n",
            "|  P00015342| 1003486|    121|         3|\n",
            "|  P00015342| 1001680|    173|         3|\n",
            "|  P00015342| 1001271|    217|         3|\n",
            "|  P00015342| 1004784|    262|         3|\n",
            "|  P00015342| 1002010|    277|         3|\n",
            "+-----------+--------+-------+----------+\n",
            "only showing top 5 rows\n",
            "\n"
          ]
        }
      ]
    },
    {
      "cell_type": "code",
      "source": [
        "df_productkey = df_test.filter('user_id==19')"
      ],
      "metadata": {
        "id": "VpJfxqQlm2oU"
      },
      "execution_count": 56,
      "outputs": []
    },
    {
      "cell_type": "code",
      "source": [
        "df_productkey.show(10)"
      ],
      "metadata": {
        "colab": {
          "base_uri": "https://localhost:8080/"
        },
        "id": "ayy9dK-Fr8fi",
        "outputId": "582b825a-a8af-4fb8-d6f6-5815861a3897"
      },
      "execution_count": 57,
      "outputs": [
        {
          "output_type": "stream",
          "name": "stdout",
          "text": [
            "+-----------+--------+-------+----------+\n",
            "|product_key|user_id1|user_id|product_id|\n",
            "+-----------+--------+-------+----------+\n",
            "|  P00025542| 1005476|     19|       493|\n",
            "|  P00051442| 1005476|     19|      2493|\n",
            "|  P00085342| 1005476|     19|       119|\n",
            "|  P00087042| 1005476|     19|      3084|\n",
            "|  P00116142| 1005476|     19|        93|\n",
            "|  P00150142| 1005476|     19|      1006|\n",
            "|  P00278642| 1005476|     19|      3352|\n",
            "|  P00291042| 1005476|     19|      2698|\n",
            "|  P00320442| 1005476|     19|       928|\n",
            "|  P00340942| 1005476|     19|      1550|\n",
            "+-----------+--------+-------+----------+\n",
            "only showing top 10 rows\n",
            "\n"
          ]
        }
      ]
    },
    {
      "cell_type": "code",
      "source": [
        "#Prediction from test data for user 1005476\n",
        "product_ids = [493, 119, 3084, 2698, 1550,3352, 93, 1006]\n",
        "user_ids = [19,19,19,19,19,19,19,19]\n",
        "new_user_preds = spark.createDataFrame(zip(product_ids,user_ids), schema = ['product_id','user_id'])\n",
        "new_user_preds.show()"
      ],
      "metadata": {
        "colab": {
          "base_uri": "https://localhost:8080/"
        },
        "id": "CHyVcNTpegcu",
        "outputId": "64f1b7d8-4435-4a2b-8bf8-522c5e8460fa"
      },
      "execution_count": 58,
      "outputs": [
        {
          "output_type": "stream",
          "name": "stdout",
          "text": [
            "+----------+-------+\n",
            "|product_id|user_id|\n",
            "+----------+-------+\n",
            "|       493|     19|\n",
            "|       119|     19|\n",
            "|      3084|     19|\n",
            "|      2698|     19|\n",
            "|      1550|     19|\n",
            "|      3352|     19|\n",
            "|        93|     19|\n",
            "|      1006|     19|\n",
            "+----------+-------+\n",
            "\n"
          ]
        }
      ]
    },
    {
      "cell_type": "code",
      "source": [
        "# Ratings given to the unseen test data\n",
        "new_predictions = final_model.transform(new_user_preds)\n",
        "new_predictions.show()"
      ],
      "metadata": {
        "colab": {
          "base_uri": "https://localhost:8080/"
        },
        "id": "kn1NBEHySjbv",
        "outputId": "8cd52591-fe43-4365-893c-5642e05dcb73"
      },
      "execution_count": 59,
      "outputs": [
        {
          "output_type": "stream",
          "name": "stdout",
          "text": [
            "+----------+-------+----------+\n",
            "|product_id|user_id|prediction|\n",
            "+----------+-------+----------+\n",
            "|      3352|     19|  6.819161|\n",
            "|      1550|     19| 6.3193765|\n",
            "|       493|     19| 7.9426384|\n",
            "|        93|     19| 20.579357|\n",
            "|      2698|     19|  5.923417|\n",
            "|      3084|     19|  24.71607|\n",
            "|      1006|     19|  6.593154|\n",
            "|       119|     19| 23.923994|\n",
            "+----------+-------+----------+\n",
            "\n"
          ]
        }
      ]
    },
    {
      "cell_type": "code",
      "source": [
        "# Prediction from test data for Product id P00313242\n",
        "df_userkey = df_test.filter('product_id==8')\n",
        "df_userkey.show(10)"
      ],
      "metadata": {
        "colab": {
          "base_uri": "https://localhost:8080/"
        },
        "id": "G4ocMWnFtN8c",
        "outputId": "4069a245-eaae-4f64-ecfe-d3b5bc9d066d"
      },
      "execution_count": 60,
      "outputs": [
        {
          "output_type": "stream",
          "name": "stdout",
          "text": [
            "+-----------+--------+-------+----------+\n",
            "|product_key|user_id1|user_id|product_id|\n",
            "+-----------+--------+-------+----------+\n",
            "|  P00313242| 1000984|     22|         8|\n",
            "|  P00313242| 1001571|     53|         8|\n",
            "|  P00313242| 1000549|    103|         8|\n",
            "|  P00313242| 1002952|    115|         8|\n",
            "|  P00313242| 1003358|    120|         8|\n",
            "|  P00313242| 1003112|    198|         8|\n",
            "|  P00313242| 1004477|    229|         8|\n",
            "|  P00313242| 1000631|    294|         8|\n",
            "|  P00313242| 1001036|    359|         8|\n",
            "|  P00313242| 1004388|    424|         8|\n",
            "+-----------+--------+-------+----------+\n",
            "only showing top 10 rows\n",
            "\n"
          ]
        }
      ]
    },
    {
      "cell_type": "code",
      "source": [
        "#Prediction from test data for user 1000010\n",
        "product_ids = [8, 8, 8, 8, 8,8 , 8, 8]\n",
        "user_ids = [22,424,294,120,115,198,229,53]\n",
        "new_prod_preds = spark.createDataFrame(zip(user_ids,product_ids), schema = ['user_id','product_id'])\n",
        "new_prod_preds.show()"
      ],
      "metadata": {
        "colab": {
          "base_uri": "https://localhost:8080/"
        },
        "id": "08wKUb_PtdAi",
        "outputId": "e9749065-a1a9-4f7f-c219-5337c7405f2e"
      },
      "execution_count": 61,
      "outputs": [
        {
          "output_type": "stream",
          "name": "stdout",
          "text": [
            "+-------+----------+\n",
            "|user_id|product_id|\n",
            "+-------+----------+\n",
            "|     22|         8|\n",
            "|    424|         8|\n",
            "|    294|         8|\n",
            "|    120|         8|\n",
            "|    115|         8|\n",
            "|    198|         8|\n",
            "|    229|         8|\n",
            "|     53|         8|\n",
            "+-------+----------+\n",
            "\n"
          ]
        }
      ]
    },
    {
      "cell_type": "code",
      "source": [
        "# Ratings given to the unseen test data\n",
        "new_predictions_1 = final_model.transform(new_prod_preds)\n",
        "new_predictions_1.show()"
      ],
      "metadata": {
        "colab": {
          "base_uri": "https://localhost:8080/"
        },
        "id": "WzlBAJ9_uUH9",
        "outputId": "c68fa0cf-5775-408d-dd5f-e4680c092c86"
      },
      "execution_count": 62,
      "outputs": [
        {
          "output_type": "stream",
          "name": "stdout",
          "text": [
            "+-------+----------+----------+\n",
            "|user_id|product_id|prediction|\n",
            "+-------+----------+----------+\n",
            "|     53|         8| 8.1157255|\n",
            "|    115|         8|  8.145874|\n",
            "|     22|         8|  7.877562|\n",
            "|    120|         8|  8.284363|\n",
            "|    229|         8|  7.897434|\n",
            "|    198|         8| 6.1736693|\n",
            "|    424|         8|  8.253785|\n",
            "|    294|         8|  8.105426|\n",
            "+-------+----------+----------+\n",
            "\n"
          ]
        }
      ]
    }
  ],
  "metadata": {
    "accelerator": "GPU",
    "colab": {
      "collapsed_sections": [],
      "name": "Recommendation_Engine_Pyspark_ALS.ipynb",
      "provenance": [],
      "toc_visible": true,
      "mount_file_id": "1kt0CFD6aYt2Fxd7jxlx5yDTHB0NH_HlC",
      "authorship_tag": "ABX9TyPyTyTCQJ423wwquDWlyp5Z",
      "include_colab_link": true
    },
    "kernelspec": {
      "display_name": "Python 3",
      "name": "python3"
    },
    "language_info": {
      "name": "python"
    }
  },
  "nbformat": 4,
  "nbformat_minor": 0
}